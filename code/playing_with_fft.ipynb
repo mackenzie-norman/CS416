{
 "cells": [
  {
   "cell_type": "code",
   "execution_count": null,
   "metadata": {},
   "outputs": [],
   "source": [
    "from scipy.fft import fft, fftfreq\n",
    "import sounddevice\n",
    "from scipy.io.wavfile import write, read\n",
    "num_secs = 4\n",
    "wav = read(\"sounds/gc.wav\")\n",
    "sample_rate = wav[0]\n",
    "wav = wav[1][:num_secs* sample_rate]\n",
    "\n",
    "low_pass = 300\n",
    "high_pass = 2000"
   ]
  },
  {
   "cell_type": "code",
   "execution_count": 54,
   "metadata": {},
   "outputs": [],
   "source": [
    "#filter try\n",
    "import scipy.signal \n",
    "def lowpass(data: np.ndarray, cutoff: float, sample_rate: float, poles: int = 5):\n",
    "    sos = scipy.signal.butter(poles, cutoff, 'lowpass', fs=sample_rate, output='sos')\n",
    "    filtered_data = scipy.signal.sosfiltfilt(sos, data)\n",
    "    return filtered_data\n",
    "def highpass(data: np.ndarray, cutoff: float, sample_rate: float, poles: int = 5):\n",
    "    sos = scipy.signal.butter(poles, cutoff, 'highpass', fs=sample_rate, output='sos')\n",
    "    filtered_data = scipy.signal.sosfiltfilt(sos, data)\n",
    "    return filtered_data\n",
    "def bandpass(data: np.ndarray, cutoff, sample_rate: float, poles: int = 5):\n",
    "    sos = scipy.signal.butter(poles, cutoff, 'bandpass', fs=sample_rate, output='sos')\n",
    "    filtered_data = scipy.signal.sosfiltfilt(sos, data)\n",
    "    return filtered_data\n",
    "sounddevice.play(wav, samplerate=sample_rate, blocking= True)\n",
    "new_wav = highpass(wav, low_pass,sample_rate=sample_rate)\n",
    "oth_new_wav = lowpass(wav, high_pass,sample_rate=sample_rate)\n",
    "final_new_wav = bandpass(wav, [low_pass, high_pass], sample_rate=sample_rate)\n",
    "sounddevice.play(new_wav, samplerate=sample_rate)\n",
    "#new_wav = np.add(new_wav, oth_new_wav)\n"
   ]
  },
  {
   "cell_type": "code",
   "execution_count": 45,
   "metadata": {},
   "outputs": [
    {
     "ename": "KeyboardInterrupt",
     "evalue": "",
     "output_type": "error",
     "traceback": [
      "\u001b[1;31m---------------------------------------------------------------------------\u001b[0m",
      "\u001b[1;31mKeyboardInterrupt\u001b[0m                         Traceback (most recent call last)",
      "Cell \u001b[1;32mIn[45], line 30\u001b[0m\n\u001b[0;32m     28\u001b[0m low_wav \u001b[38;5;241m=\u001b[39m highpass(wav, low_pass,sample_rate\u001b[38;5;241m=\u001b[39msample_rate)\n\u001b[0;32m     29\u001b[0m high_wav \u001b[38;5;241m=\u001b[39m lowpass(wav, high_pass,sample_rate\u001b[38;5;241m=\u001b[39msample_rate)\n\u001b[1;32m---> 30\u001b[0m mid_wav \u001b[38;5;241m=\u001b[39m \u001b[43mbandpass\u001b[49m\u001b[43m(\u001b[49m\u001b[43mwav\u001b[49m\u001b[43m,\u001b[49m\u001b[43m \u001b[49m\u001b[43m[\u001b[49m\u001b[43mlow_pass\u001b[49m\u001b[43m,\u001b[49m\u001b[43m \u001b[49m\u001b[43mhigh_pass\u001b[49m\u001b[43m]\u001b[49m\u001b[43m,\u001b[49m\u001b[43m \u001b[49m\u001b[43msample_rate\u001b[49m\u001b[38;5;241;43m=\u001b[39;49m\u001b[43msample_rate\u001b[49m\u001b[43m)\u001b[49m\n\u001b[0;32m     31\u001b[0m low_wav \u001b[38;5;241m*\u001b[39m\u001b[38;5;241m=\u001b[39m low_ratio\n\u001b[0;32m     32\u001b[0m mid_wav \u001b[38;5;241m*\u001b[39m\u001b[38;5;241m=\u001b[39m mid_ratio\n",
      "Cell \u001b[1;32mIn[37], line 13\u001b[0m, in \u001b[0;36mbandpass\u001b[1;34m(data, cutoff, sample_rate, poles)\u001b[0m\n\u001b[0;32m     11\u001b[0m \u001b[38;5;28;01mdef\u001b[39;00m \u001b[38;5;21mbandpass\u001b[39m(data: np\u001b[38;5;241m.\u001b[39mndarray, cutoff, sample_rate: \u001b[38;5;28mfloat\u001b[39m, poles: \u001b[38;5;28mint\u001b[39m \u001b[38;5;241m=\u001b[39m \u001b[38;5;241m5\u001b[39m):\n\u001b[0;32m     12\u001b[0m     sos \u001b[38;5;241m=\u001b[39m scipy\u001b[38;5;241m.\u001b[39msignal\u001b[38;5;241m.\u001b[39mbutter(poles, cutoff, \u001b[38;5;124m'\u001b[39m\u001b[38;5;124mbandpass\u001b[39m\u001b[38;5;124m'\u001b[39m, fs\u001b[38;5;241m=\u001b[39msample_rate, output\u001b[38;5;241m=\u001b[39m\u001b[38;5;124m'\u001b[39m\u001b[38;5;124msos\u001b[39m\u001b[38;5;124m'\u001b[39m)\n\u001b[1;32m---> 13\u001b[0m     filtered_data \u001b[38;5;241m=\u001b[39m \u001b[43mscipy\u001b[49m\u001b[38;5;241;43m.\u001b[39;49m\u001b[43msignal\u001b[49m\u001b[38;5;241;43m.\u001b[39;49m\u001b[43msosfiltfilt\u001b[49m\u001b[43m(\u001b[49m\u001b[43msos\u001b[49m\u001b[43m,\u001b[49m\u001b[43m \u001b[49m\u001b[43mdata\u001b[49m\u001b[43m)\u001b[49m\n\u001b[0;32m     14\u001b[0m     \u001b[38;5;28;01mreturn\u001b[39;00m filtered_data\n",
      "File \u001b[1;32mc:\\Users\\maxno\\OneDrive\\Documents\\Fall2024\\CS416\\code\\.venv\\Lib\\site-packages\\scipy\\signal\\_signaltools.py:4490\u001b[0m, in \u001b[0;36msosfiltfilt\u001b[1;34m(sos, x, axis, padtype, padlen)\u001b[0m\n\u001b[0;32m   4488\u001b[0m (y, zf) \u001b[38;5;241m=\u001b[39m sosfilt(sos, ext, axis\u001b[38;5;241m=\u001b[39maxis, zi\u001b[38;5;241m=\u001b[39mzi \u001b[38;5;241m*\u001b[39m x_0)\n\u001b[0;32m   4489\u001b[0m y_0 \u001b[38;5;241m=\u001b[39m axis_slice(y, start\u001b[38;5;241m=\u001b[39m\u001b[38;5;241m-\u001b[39m\u001b[38;5;241m1\u001b[39m, axis\u001b[38;5;241m=\u001b[39maxis)\n\u001b[1;32m-> 4490\u001b[0m (y, zf) \u001b[38;5;241m=\u001b[39m \u001b[43msosfilt\u001b[49m\u001b[43m(\u001b[49m\u001b[43msos\u001b[49m\u001b[43m,\u001b[49m\u001b[43m \u001b[49m\u001b[43maxis_reverse\u001b[49m\u001b[43m(\u001b[49m\u001b[43my\u001b[49m\u001b[43m,\u001b[49m\u001b[43m \u001b[49m\u001b[43maxis\u001b[49m\u001b[38;5;241;43m=\u001b[39;49m\u001b[43maxis\u001b[49m\u001b[43m)\u001b[49m\u001b[43m,\u001b[49m\u001b[43m \u001b[49m\u001b[43maxis\u001b[49m\u001b[38;5;241;43m=\u001b[39;49m\u001b[43maxis\u001b[49m\u001b[43m,\u001b[49m\u001b[43m \u001b[49m\u001b[43mzi\u001b[49m\u001b[38;5;241;43m=\u001b[39;49m\u001b[43mzi\u001b[49m\u001b[43m \u001b[49m\u001b[38;5;241;43m*\u001b[39;49m\u001b[43m \u001b[49m\u001b[43my_0\u001b[49m\u001b[43m)\u001b[49m\n\u001b[0;32m   4491\u001b[0m y \u001b[38;5;241m=\u001b[39m axis_reverse(y, axis\u001b[38;5;241m=\u001b[39maxis)\n\u001b[0;32m   4492\u001b[0m \u001b[38;5;28;01mif\u001b[39;00m edge \u001b[38;5;241m>\u001b[39m \u001b[38;5;241m0\u001b[39m:\n",
      "File \u001b[1;32mc:\\Users\\maxno\\OneDrive\\Documents\\Fall2024\\CS416\\code\\.venv\\Lib\\site-packages\\scipy\\signal\\_signaltools.py:4372\u001b[0m, in \u001b[0;36msosfilt\u001b[1;34m(sos, x, axis, zi)\u001b[0m\n\u001b[0;32m   4370\u001b[0m zi \u001b[38;5;241m=\u001b[39m np\u001b[38;5;241m.\u001b[39mascontiguousarray(np\u001b[38;5;241m.\u001b[39mreshape(zi, (\u001b[38;5;241m-\u001b[39m\u001b[38;5;241m1\u001b[39m, n_sections, \u001b[38;5;241m2\u001b[39m)))\n\u001b[0;32m   4371\u001b[0m sos \u001b[38;5;241m=\u001b[39m sos\u001b[38;5;241m.\u001b[39mastype(dtype, copy\u001b[38;5;241m=\u001b[39m\u001b[38;5;28;01mFalse\u001b[39;00m)\n\u001b[1;32m-> 4372\u001b[0m \u001b[43m_sosfilt\u001b[49m\u001b[43m(\u001b[49m\u001b[43msos\u001b[49m\u001b[43m,\u001b[49m\u001b[43m \u001b[49m\u001b[43mx\u001b[49m\u001b[43m,\u001b[49m\u001b[43m \u001b[49m\u001b[43mzi\u001b[49m\u001b[43m)\u001b[49m\n\u001b[0;32m   4373\u001b[0m x\u001b[38;5;241m.\u001b[39mshape \u001b[38;5;241m=\u001b[39m x_shape\n\u001b[0;32m   4374\u001b[0m x \u001b[38;5;241m=\u001b[39m np\u001b[38;5;241m.\u001b[39mmoveaxis(x, \u001b[38;5;241m-\u001b[39m\u001b[38;5;241m1\u001b[39m, axis)\n",
      "\u001b[1;31mKeyboardInterrupt\u001b[0m: "
     ]
    }
   ],
   "source": [
    "import matplotlib.pyplot as plt\n",
    "import numpy as np\n",
    "# need to window and have windowing function\n",
    "fft_wav = wav\n",
    "final_wav = np.array([])\n",
    "for block in range(0,len(fft_wav),1024):\n",
    "    #block \n",
    "    tmp_wav = fft_wav[block:block + 1024]\n",
    "    fft_values =  np.absolute(fft(tmp_wav))\n",
    "\n",
    "    freq = [i for i, f in enumerate(fftfreq(len(tmp_wav), 1/sample_rate)) if f > 0]\n",
    "    fft_values = [fft_values[f]  for i,f in enumerate(freq) ]\n",
    "\n",
    "    low_bins = [i for i,f in enumerate(freq) if f < low_pass and f > 0]\n",
    "    low_power = np.average([fft_values[i] for i in low_bins])\n",
    "    mid_bins = [i for i,f in enumerate(freq) if f > low_pass and f < high_pass]\n",
    "    mid_power = np.average([fft_values[i] for i in mid_bins])\n",
    "\n",
    "    high_bins = [i for i,f in enumerate(freq) if f > high_pass]\n",
    "    high_power = np.average([fft_values[i] for i in high_bins])\n",
    "    min_power = min(low_power, mid_power, high_power)\n",
    "    low_ratio = min_power / low_power  \n",
    "    mid_ratio = min_power / mid_power  \n",
    "    high_ratio = min_power / high_power  \n",
    "    #print(f\"low: {low_ratio}\")\n",
    "    #print(f\"mid: {mid_ratio}\")\n",
    "    #print(f\"high: {high_ratio}\")\n",
    "    low_wav = highpass(wav, low_pass,sample_rate=sample_rate)\n",
    "    high_wav = lowpass(wav, high_pass,sample_rate=sample_rate)\n",
    "    mid_wav = bandpass(wav, [low_pass, high_pass], sample_rate=sample_rate)\n",
    "    low_wav *= low_ratio\n",
    "    mid_wav *= mid_ratio\n",
    "    high_wav *= high_ratio\n",
    "    out_wav = np.add(high_wav, np.add(low_wav, mid_wav) )\n",
    "    np.append(final_wav, out_wav)\n",
    "\n",
    "print(len(final_wav), len(wav))\n",
    "sounddevice.play(final_wav, samplerate=sample_rate)\n",
    "    #plt.plot(freq,fft_values)\n",
    "    #plt.show()\n",
    "    #magnitude = np.absolute(fft_values)\n",
    "    #print(magnitude)\n",
    "#phase = np.angle(fft_values[index[0]])\n",
    "#print(\"Magnitude:\", magnitude, \", phase:\", phase)\n",
    "\n",
    "## Plot a spectrum \n",
    "#plt.plot(freq[0:sample_rate//2], 2/sample_rate*np.abs(fft_values[0:sample_rate//2]), label='amplitude spectrum')   # in a conventional form\n",
    "#plt.plot(freq[0:sample_rate//2], np.angle(fft_values[0:sample_rate//2]), label='phase spectrum')\n",
    "#plt.legend()\n",
    "#plt.grid()\n",
    "#plt.show()"
   ]
  }
 ],
 "metadata": {
  "kernelspec": {
   "display_name": ".venv",
   "language": "python",
   "name": "python3"
  },
  "language_info": {
   "codemirror_mode": {
    "name": "ipython",
    "version": 3
   },
   "file_extension": ".py",
   "mimetype": "text/x-python",
   "name": "python",
   "nbconvert_exporter": "python",
   "pygments_lexer": "ipython3",
   "version": "3.12.6"
  }
 },
 "nbformat": 4,
 "nbformat_minor": 2
}
