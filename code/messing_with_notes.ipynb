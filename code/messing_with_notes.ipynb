{
 "cells": [
  {
   "cell_type": "code",
   "execution_count": 1,
   "metadata": {},
   "outputs": [
    {
     "name": "stdout",
     "output_type": "stream",
     "text": [
      "--f=c:\\Users\\maxno\\AppData\\Roaming\\jupyter\\runtime\\kernel-v34070076d62daf0e08477194f4d9d34a26fa2e06e.json: Error opening '--f=c:\\\\Users\\\\maxno\\\\AppData\\\\Roaming\\\\jupyter\\\\runtime\\\\kernel-v34070076d62daf0e08477194f4d9d34a26fa2e06e.json': System error.\n"
     ]
    }
   ],
   "source": [
    "\n",
    "from scipy.io.wavfile import write\n",
    "import sounddevice\n",
    "import math\n",
    "import matplotlib.pyplot as plt\n",
    "import numpy as np\n",
    "from wavfile import read_wave\n",
    "#taken from scipy website!!\n",
    "# lets try playing\n",
    "number_of_octaves = 2\n",
    "fs = 440\n",
    "SAMPLE_RATE = 48000\n",
    "final_data = np.array([])\n",
    "for i in range(1, number_of_octaves + 1 ):\n",
    "    for k in range(0,12):\n",
    "        time_in_s = 1/12\n",
    "        t = np.linspace(0., time_in_s, SAMPLE_RATE)\n",
    "        amplitude = 8192\n",
    "    \n",
    "        data = amplitude * np.sin(2 * math.pi * (fs * (i* 2**(k/12)) ) * t)\n",
    "        data = data.astype(np.int16)\n",
    "        final_data = np.append(final_data, data)\n",
    "write('sine2.wav', SAMPLE_RATE, final_data)\n",
    "#plt.plot(final_data)\n",
    "#plt.show()\n",
    "sounddevice.play(final_data, SAMPLE_RATE)"
   ]
  },
  {
   "cell_type": "code",
   "execution_count": 36,
   "metadata": {},
   "outputs": [
    {
     "name": "stdout",
     "output_type": "stream",
     "text": [
      "q is 1.0\n",
      "q is 1.0\n",
      "w is 1.0594630943592953\n",
      "w is 1.0594630943592953\n",
      "e is 1.122462048309373\n",
      "e is 1.122462048309373\n",
      "q is 1.0\n",
      "q is 1.0\n",
      "w is 1.0594630943592953\n",
      "w is 1.0594630943592953\n",
      "e is 1.122462048309373\n",
      "e is 1.122462048309373\n"
     ]
    }
   ],
   "source": [
    "#Next experimenti\n",
    "key_to_note = [\"q\",\"w\",\"e\",\"r\",\"t\",\"y\",\"u\",\"i\",\"o\",\"p\",\"[\",\"]\"]\n",
    "base_fs = 440\n",
    "SAMPLE_RATE = 48000\n",
    "entered_music = input()\n",
    "final_data = np.array([])\n",
    "for letter in entered_music:\n",
    "    i = key_to_note.index(letter)\n",
    "    time_in_s = 0.25\n",
    "    t = np.linspace(0.0, time_in_s, SAMPLE_RATE)\n",
    "    amplitude = 8192\n",
    "    mult_val = 1* (2**(i/12) )\n",
    "    print(f\"{letter} is {mult_val}\")\n",
    "    data = amplitude * np.sin(2 * math.pi * (fs * mult_val ) * t)\n",
    "    data = data.astype(np.int16)\n",
    "    final_data = np.append(final_data, data)\n",
    "write(entered_music +\".wav\", SAMPLE_RATE, final_data)\n",
    "#plt.plot(final_data)\n",
    "#plt.show()\n",
    "final_data = final_data.astype(np.int16)\n",
    "sounddevice.play(final_data, SAMPLE_RATE)"
   ]
  },
  {
   "cell_type": "code",
   "execution_count": 2,
   "metadata": {},
   "outputs": [
    {
     "name": "stdout",
     "output_type": "stream",
     "text": [
      "q is 1.0\n",
      "r is 1.189207115002721\n",
      "p is 1.681792830507429\n",
      "u is 1.4142135623730951\n",
      "p is 1.681792830507429\n",
      "] is 1.8877486253633868\n",
      "r is 1.189207115002721\n",
      "t is 1.2599210498948732\n"
     ]
    }
   ],
   "source": [
    "import keyboard\n",
    "def gen_sine_wave(letter, base_fs = 440):\n",
    "    key_to_note = [\"q\",\"w\",\"e\",\"r\",\"t\",\"y\",\"u\",\"i\",\"o\",\"p\",\"[\",\"]\"]\n",
    "    SAMPLE_RATE = 48000\n",
    "    i = key_to_note.index(letter)\n",
    "    time_in_s = 0.25\n",
    "    t = np.linspace(0.0, time_in_s, SAMPLE_RATE)\n",
    "    amplitude = 8192\n",
    "    mult_val = 1* (2**(i/12) )\n",
    "    print(f\"{letter} is {mult_val}\")\n",
    "    data = amplitude * np.sin(2 * math.pi * (fs * mult_val ) * t)\n",
    "    data = data.astype(np.int16)\n",
    "    return data\n",
    "#chat gpt blorp\n",
    "def check_keys(keys):\n",
    "    pressed_keys = [key for key in keys if keyboard.is_pressed(key)]\n",
    "    return pressed_keys\n",
    "while True:\n",
    "    key_to_note = [\"q\",\"w\",\"e\",\"r\",\"t\",\"y\",\"u\",\"i\",\"o\",\"p\",\"[\",\"]\"]\n",
    "    if keyboard.is_pressed('esc'):\n",
    "        break\n",
    "    key = check_keys(key_to_note)\n",
    "    if key:\n",
    "        sounddevice.play(gen_sine_wave(key[0], base_fs= 1600))\n"
   ]
  }
 ],
 "metadata": {
  "kernelspec": {
   "display_name": ".venv",
   "language": "python",
   "name": "python3"
  },
  "language_info": {
   "codemirror_mode": {
    "name": "ipython",
    "version": 3
   },
   "file_extension": ".py",
   "mimetype": "text/x-python",
   "name": "python",
   "nbconvert_exporter": "python",
   "pygments_lexer": "ipython3",
   "version": "3.12.6"
  }
 },
 "nbformat": 4,
 "nbformat_minor": 2
}
